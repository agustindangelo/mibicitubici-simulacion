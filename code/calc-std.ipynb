{
 "cells": [
  {
   "cell_type": "code",
   "execution_count": 94,
   "id": "b47e3aef-1ef0-4f53-8d9d-50c71bd8be60",
   "metadata": {},
   "outputs": [],
   "source": [
    "import pandas as pd\n",
    "import numpy as np\n",
    "import os\n",
    "import json\n",
    "import matplotlib.pyplot as plt\n",
    "import scipy.stats as stats\n",
    "import scipy"
   ]
  },
  {
   "cell_type": "code",
   "execution_count": 78,
   "id": "ceebe448-ccf1-41f4-bbc2-65eedba9df93",
   "metadata": {},
   "outputs": [],
   "source": [
    "model_path = '../Modelo/MiBiciTuBici'\n",
    "model_output_path = f'{model_path}/model-output'\n",
    "processed_output_path = f'{model_path}/processed-model-output/'\n",
    "experiment_1_path = f'{model_output_path}/experiment-1'\n",
    "experiment_2_path = f'{model_output_path}/experiment-2'\n",
    "\n",
    "# --> Sanity checks\n",
    "if not os.path.exists(model_output_path) or len(os.listdir(model_output_path)) == 0:\n",
    "    raise Exception('No model output is available. Run the AnyLogic experiment and try again.')\n",
    "if not os.path.exists(experiment_1_path) or len(os.listdir(experiment_1_path)) == 0:\n",
    "    raise Exception('No model output is available for experiment 1. Run the AnyLogic experiment and try again.')\n",
    "if not os.path.exists(experiment_2_path) or len(os.listdir(experiment_2_path)) == 0:\n",
    "    raise Exception('No model output is available for experiment 2. Run the AnyLogic experiment and try again.')\n",
    "\n",
    "if not os.path.exists(processed_output_path):\n",
    "    os.mkdir(processed_output_path)\n",
    "\n",
    "experiment_1_files = os.listdir(experiment_1_path)\n",
    "experiment_2_files = os.listdir(experiment_2_path)\n",
    "\n",
    "for file in experiment_1_files:\n",
    "    if not file.startswith('output') and not file.endswith('.json'):\n",
    "        raise Exception(f'File {file} is not recognized. Aborting.')\n",
    "\n",
    "for file in experiment_2_files:\n",
    "    if not file.startswith('output') and not file.endswith('.json'):\n",
    "        raise Exception(f'File {file} is not recognized. Aborting.')\n",
    "\n",
    "n_replications = len(experiment_1_files)\n",
    "\n",
    "statistics = (\n",
    "    'co2Avoided',\n",
    ")\n",
    "\n",
    "results_exp_1 = { f'{statistic}': [] for statistic in statistics }\n",
    "results_exp_2 = { f'{statistic}': [] for statistic in statistics }\n",
    "results_difference = { f'{statistic}': [] for statistic in statistics }"
   ]
  },
  {
   "cell_type": "code",
   "execution_count": 79,
   "metadata": {},
   "outputs": [
    {
     "name": "stdout",
     "output_type": "stream",
     "text": [
      "123\n",
      "0\n"
     ]
    },
    {
     "data": {
      "text/plain": [
       "[]"
      ]
     },
     "execution_count": 79,
     "metadata": {},
     "output_type": "execute_result"
    }
   ],
   "source": [
    "correctos = []\n",
    "defectuosos = []\n",
    "\n",
    "for output_file in experiment_1_files:\n",
    "    with open(f'{model_output_path}/experiment-1/{output_file}', 'r') as f:\n",
    "        try:\n",
    "            data = json.load(f)\n",
    "            correctos.append(output_file)\n",
    "        except:\n",
    "            defectuosos.append(output_file)\n",
    "\n",
    "    for statistic in statistics:\n",
    "        results_exp_1[statistic].append(data[statistic])\n",
    "\n",
    "print(len(correctos))\n",
    "print(len(defectuosos))\n",
    "defectuosos"
   ]
  },
  {
   "cell_type": "code",
   "execution_count": 80,
   "metadata": {},
   "outputs": [
    {
     "name": "stdout",
     "output_type": "stream",
     "text": [
      "111\n",
      "0\n"
     ]
    },
    {
     "data": {
      "text/plain": [
       "[]"
      ]
     },
     "execution_count": 80,
     "metadata": {},
     "output_type": "execute_result"
    }
   ],
   "source": [
    "correctos = []\n",
    "defectuosos = []\n",
    "\n",
    "for output_file in experiment_2_files:\n",
    "    with open(f'{model_output_path}/experiment-2/{output_file}', 'r') as f:\n",
    "        try:\n",
    "            data = json.load(f)\n",
    "            correctos.append(output_file)\n",
    "        except:\n",
    "            defectuosos.append(output_file)\n",
    "\n",
    "    for statistic in statistics:\n",
    "        results_exp_2[statistic].append(data[statistic])\n",
    "\n",
    "print(len(correctos))\n",
    "print(len(defectuosos))\n",
    "defectuosos"
   ]
  },
  {
   "cell_type": "code",
   "execution_count": 81,
   "id": "189b720c-3426-4c24-8921-faa7de35b75d",
   "metadata": {},
   "outputs": [
    {
     "name": "stdout",
     "output_type": "stream",
     "text": [
      "-------------- experiment 1\n",
      "mean: 244670.12046435926\n",
      "std: 16535.307387228928\n",
      "count: 123\n",
      "-------------- experiment 2\n",
      "mean: 247449.44440624164\n",
      "std: 17275.657487051554\n",
      "count: 111\n"
     ]
    }
   ],
   "source": [
    "print('-------------- experiment 1')\n",
    "print(f'mean: {np.mean(results_exp_1[\"co2Avoided\"])}')\n",
    "print(f'std: {np.std(results_exp_1[\"co2Avoided\"])}')\n",
    "print(f'count: {len(results_exp_1[\"co2Avoided\"])}')\n",
    "print('-------------- experiment 2')\n",
    "print(f'mean: {np.mean(results_exp_2[\"co2Avoided\"])}')\n",
    "print(f'std: {np.std(results_exp_2[\"co2Avoided\"])}')\n",
    "print(f'count: {len(results_exp_2[\"co2Avoided\"])}')"
   ]
  },
  {
   "cell_type": "markdown",
   "metadata": {},
   "source": [
    "# ----- Test de medias ----- "
   ]
  },
  {
   "cell_type": "code",
   "execution_count": 95,
   "metadata": {},
   "outputs": [
    {
     "name": "stdout",
     "output_type": "stream",
     "text": [
      "111 111\n"
     ]
    }
   ],
   "source": [
    "co2Avoided_exp_1 = np.array(results_exp_1[\"co2Avoided\"])\n",
    "co2Avoided_exp_2 = np.array(results_exp_2[\"co2Avoided\"])\n",
    "if len(co2Avoided_exp_1)>len(co2Avoided_exp_2):\n",
    "    co2Avoided_exp_1 = co2Avoided_exp_1[:len(co2Avoided_exp_2)]\n",
    "else:\n",
    "    co2Avoided_exp_2 = co2Avoided_exp_2[:len(co2Avoided_exp_1)]\n",
    "\n",
    "print(len(co2Avoided_exp_1),len(co2Avoided_exp_2))\n"
   ]
  },
  {
   "cell_type": "code",
   "execution_count": 88,
   "metadata": {},
   "outputs": [],
   "source": [
    "def mean_confidence_interval(data, confidence=0.95):\n",
    "        a = 1.0 * np.array(data)\n",
    "        n = len(a)\n",
    "        m, se = np.mean(a), scipy.stats.sem(a)\n",
    "        h = se * scipy.stats.t.ppf((1 + confidence) / 2., n-1)\n",
    "        return m, m-h, m+h"
   ]
  },
  {
   "cell_type": "code",
   "execution_count": 113,
   "metadata": {},
   "outputs": [
    {
     "name": "stdout",
     "output_type": "stream",
     "text": [
      "-> calculating confidence intervals for the difference of the realizations...\n",
      "   Cota inferior    Media  Cota superior\n",
      "0       -7743.42 -3285.84        1171.73      [ -6457.51258688  18139.83284883  -2154.34172787  -4339.34049743\n",
      "  19569.83480592  -7139.5911259  -53951.02212694  30054.48451008\n",
      "  -6142.64628491  -7557.14716696 -24948.76148401  -4670.21302326\n",
      "  11129.03350479   3095.86226471 -12789.08789119 -26504.2119218\n",
      "  -9260.25939593   5751.41050001 -16970.42992114  58370.09181576\n",
      "  12811.09688405    798.47799839   7152.34917456 -30537.85459129\n",
      " -25507.71062517 -18621.4126613    3822.84066323  22869.3001363\n",
      "  20473.66713789  29740.84737359  -7030.96972856 -13894.557749\n",
      " -28914.59852311   2716.6200487   13152.74249183  11936.68448753\n",
      "   2749.5835635  -12586.11144259 -33381.53200813  -3112.47585036\n",
      "  30089.75215134 -44616.36821676  15390.82449816 -32956.33085565\n",
      " -26823.1586861   14730.64807908 -26811.1757832   12887.45593883\n",
      "   7100.03365686 -28170.53239819 -21503.02553817  28977.83909981\n",
      " -27156.92837685  13444.6080652   17998.53446478  35474.53366632\n",
      "   9917.2009969  -25309.75883238 -22738.67155424  27662.95846237\n",
      "  16528.15764667  45945.89083121  19586.72069502 -10479.27990953\n",
      "  35963.37718697 -11836.55036604 -50047.46110133   -258.64506704\n",
      "    489.92586448   6777.61092104 -27881.47684734  -3906.84287822\n",
      " -30847.65813693 -14851.23489135 -10285.58379669  54483.00301484\n",
      "  -1058.93988741 -18755.99799128  15321.09451051  13440.41980153\n",
      " -21241.19772148  -8705.08817273   1965.26697743 -33698.41089764\n",
      " -17215.50805261 -45066.59158045 -19768.42718485  31285.8234151\n",
      "  -4542.0506867  -12325.83193293 -46060.98386549  19685.92726918\n",
      " -54910.36666086 -25233.14680799   3412.8822732   11966.33479835\n",
      "  -2044.67710484  -3535.47456454  12116.59449516  15829.24690932\n",
      "  17841.97194681  32174.43771796 -37698.04588789 -70486.73156319\n",
      "  -7102.56277451  18649.12096256   5625.84453795   -859.55847563\n",
      "  -7483.29493067 -11982.39825677  -9099.36503774]\n"
     ]
    }
   ],
   "source": [
    "# --> Confidence intervals for the difference\n",
    "print('-> calculating confidence intervals for the difference of the realizations...')\n",
    "\n",
    "results_difference = np.array(co2Avoided_exp_1 - co2Avoided_exp_2)\n",
    "\n",
    "mean, lower, upper = mean_confidence_interval(results_difference)\n",
    "confidence_intervals = (lower, mean, upper)\n",
    "\n",
    "confidence_intervals = pd.DataFrame(confidence_intervals).transpose()\n",
    "confidence_intervals.columns = ('Cota inferior', 'Media', 'Cota superior')\n",
    "confidence_intervals = confidence_intervals.round(decimals=2)\n",
    "#confidence_intervals.to_csv('../Modelo/MiBiciTuBici/processed-model-output/intervals.csv')\n",
    "# ------------------------------------------\n",
    "print(confidence_intervals, \"    \", results_difference)"
   ]
  },
  {
   "cell_type": "code",
   "execution_count": 98,
   "metadata": {},
   "outputs": [
    {
     "data": {
      "text/plain": [
       "[<matplotlib.lines.Line2D at 0x1d3e7e8c4c0>]"
      ]
     },
     "execution_count": 98,
     "metadata": {},
     "output_type": "execute_result"
    },
    {
     "data": {
      "image/png": "[encoded data removed]",
      "text/plain": [
       "<Figure size 432x288 with 1 Axes>"
      ]
     },
     "metadata": {
      "needs_background": "light"
     },
     "output_type": "display_data"
    }
   ],
   "source": [
    "plt.plot(co2Avoided_exp_1)\n",
    "plt.plot(co2Avoided_exp_2)"
   ]
  },
  {
   "cell_type": "code",
   "execution_count": 48,
   "metadata": {},
   "outputs": [
    {
     "name": "stdout",
     "output_type": "stream",
     "text": [
      "0\n"
     ]
    }
   ],
   "source": [
    "c=0\n",
    "for i in results_exp_1[\"co2Avoided\"]:\n",
    "    if i==0:\n",
    "        c+=1\n",
    "print(c)"
   ]
  },
  {
   "cell_type": "code",
   "execution_count": 4,
   "id": "62f9e187-f0f8-4f13-adb8-a58ee9df5ca5",
   "metadata": {},
   "outputs": [
    {
     "ename": "UnicodeDecodeError",
     "evalue": "'utf-8' codec can't decode byte 0xf1 in position 185: invalid continuation byte",
     "output_type": "error",
     "traceback": [
      "\u001b[0;31m---------------------------------------------------------------------------\u001b[0m",
      "\u001b[0;31mUnicodeDecodeError\u001b[0m                        Traceback (most recent call last)",
      "\u001b[0;32m<ipython-input-4-b7cbb8d27ba2>\u001b[0m in \u001b[0;36m<module>\u001b[0;34m\u001b[0m\n\u001b[1;32m      1\u001b[0m \u001b[0;32mfor\u001b[0m \u001b[0moutput_file\u001b[0m \u001b[0;32min\u001b[0m \u001b[0mexperiment_2_files\u001b[0m\u001b[0;34m:\u001b[0m\u001b[0;34m\u001b[0m\u001b[0;34m\u001b[0m\u001b[0m\n\u001b[1;32m      2\u001b[0m     \u001b[0;32mwith\u001b[0m \u001b[0mopen\u001b[0m\u001b[0;34m(\u001b[0m\u001b[0;34mf'{model_output_path}/experiment-2/{output_file}'\u001b[0m\u001b[0;34m)\u001b[0m \u001b[0;32mas\u001b[0m \u001b[0mf\u001b[0m\u001b[0;34m:\u001b[0m\u001b[0;34m\u001b[0m\u001b[0;34m\u001b[0m\u001b[0m\n\u001b[0;32m----> 3\u001b[0;31m         \u001b[0mdata\u001b[0m \u001b[0;34m=\u001b[0m \u001b[0mjson\u001b[0m\u001b[0;34m.\u001b[0m\u001b[0mload\u001b[0m\u001b[0;34m(\u001b[0m\u001b[0mf\u001b[0m\u001b[0;34m)\u001b[0m\u001b[0;34m\u001b[0m\u001b[0;34m\u001b[0m\u001b[0m\n\u001b[0m\u001b[1;32m      4\u001b[0m \u001b[0;34m\u001b[0m\u001b[0m\n\u001b[1;32m      5\u001b[0m     \u001b[0mstations_population_data_exp_2\u001b[0m\u001b[0;34m.\u001b[0m\u001b[0mappend\u001b[0m\u001b[0;34m(\u001b[0m\u001b[0mdata\u001b[0m\u001b[0;34m[\u001b[0m\u001b[0;34m'estaciones'\u001b[0m\u001b[0;34m]\u001b[0m\u001b[0;34m)\u001b[0m\u001b[0;34m\u001b[0m\u001b[0;34m\u001b[0m\u001b[0m\n",
      "\u001b[0;32m/usr/lib/python3.9/json/__init__.py\u001b[0m in \u001b[0;36mload\u001b[0;34m(fp, cls, object_hook, parse_float, parse_int, parse_constant, object_pairs_hook, **kw)\u001b[0m\n\u001b[1;32m    291\u001b[0m     \u001b[0mkwarg\u001b[0m\u001b[0;34m;\u001b[0m \u001b[0motherwise\u001b[0m\u001b[0;31m \u001b[0m\u001b[0;31m`\u001b[0m\u001b[0;31m`\u001b[0m\u001b[0mJSONDecoder\u001b[0m\u001b[0;31m`\u001b[0m\u001b[0;31m`\u001b[0m \u001b[0;32mis\u001b[0m \u001b[0mused\u001b[0m\u001b[0;34m.\u001b[0m\u001b[0;34m\u001b[0m\u001b[0;34m\u001b[0m\u001b[0m\n\u001b[1;32m    292\u001b[0m     \"\"\"\n\u001b[0;32m--> 293\u001b[0;31m     return loads(fp.read(),\n\u001b[0m\u001b[1;32m    294\u001b[0m         \u001b[0mcls\u001b[0m\u001b[0;34m=\u001b[0m\u001b[0mcls\u001b[0m\u001b[0;34m,\u001b[0m \u001b[0mobject_hook\u001b[0m\u001b[0;34m=\u001b[0m\u001b[0mobject_hook\u001b[0m\u001b[0;34m,\u001b[0m\u001b[0;34m\u001b[0m\u001b[0;34m\u001b[0m\u001b[0m\n\u001b[1;32m    295\u001b[0m         \u001b[0mparse_float\u001b[0m\u001b[0;34m=\u001b[0m\u001b[0mparse_float\u001b[0m\u001b[0;34m,\u001b[0m \u001b[0mparse_int\u001b[0m\u001b[0;34m=\u001b[0m\u001b[0mparse_int\u001b[0m\u001b[0;34m,\u001b[0m\u001b[0;34m\u001b[0m\u001b[0;34m\u001b[0m\u001b[0m\n",
      "\u001b[0;32m/usr/lib/python3.9/codecs.py\u001b[0m in \u001b[0;36mdecode\u001b[0;34m(self, input, final)\u001b[0m\n\u001b[1;32m    320\u001b[0m         \u001b[0;31m# decode input (taking the buffer into account)\u001b[0m\u001b[0;34m\u001b[0m\u001b[0;34m\u001b[0m\u001b[0m\n\u001b[1;32m    321\u001b[0m         \u001b[0mdata\u001b[0m \u001b[0;34m=\u001b[0m \u001b[0mself\u001b[0m\u001b[0;34m.\u001b[0m\u001b[0mbuffer\u001b[0m \u001b[0;34m+\u001b[0m \u001b[0minput\u001b[0m\u001b[0;34m\u001b[0m\u001b[0;34m\u001b[0m\u001b[0m\n\u001b[0;32m--> 322\u001b[0;31m         \u001b[0;34m(\u001b[0m\u001b[0mresult\u001b[0m\u001b[0;34m,\u001b[0m \u001b[0mconsumed\u001b[0m\u001b[0;34m)\u001b[0m \u001b[0;34m=\u001b[0m \u001b[0mself\u001b[0m\u001b[0;34m.\u001b[0m\u001b[0m_buffer_decode\u001b[0m\u001b[0;34m(\u001b[0m\u001b[0mdata\u001b[0m\u001b[0;34m,\u001b[0m \u001b[0mself\u001b[0m\u001b[0;34m.\u001b[0m\u001b[0merrors\u001b[0m\u001b[0;34m,\u001b[0m \u001b[0mfinal\u001b[0m\u001b[0;34m)\u001b[0m\u001b[0;34m\u001b[0m\u001b[0;34m\u001b[0m\u001b[0m\n\u001b[0m\u001b[1;32m    323\u001b[0m         \u001b[0;31m# keep undecoded input until the next call\u001b[0m\u001b[0;34m\u001b[0m\u001b[0;34m\u001b[0m\u001b[0m\n\u001b[1;32m    324\u001b[0m         \u001b[0mself\u001b[0m\u001b[0;34m.\u001b[0m\u001b[0mbuffer\u001b[0m \u001b[0;34m=\u001b[0m \u001b[0mdata\u001b[0m\u001b[0;34m[\u001b[0m\u001b[0mconsumed\u001b[0m\u001b[0;34m:\u001b[0m\u001b[0;34m]\u001b[0m\u001b[0;34m\u001b[0m\u001b[0;34m\u001b[0m\u001b[0m\n",
      "\u001b[0;31mUnicodeDecodeError\u001b[0m: 'utf-8' codec can't decode byte 0xf1 in position 185: invalid continuation byte"
     ]
    }
   ],
   "source": [
    "for output_file in experiment_2_files:\n",
    "    with open(f'{model_output_path}/experiment-2/{output_file}') as f:\n",
    "        data = json.load(f)\n",
    "\n",
    "    stations_population_data_exp_2.append(data['estaciones'])\n",
    "\n",
    "    for statistic in statistics:\n",
    "        results_exp_2[statistic].append(data[statistic])"
   ]
  },
  {
   "cell_type": "code",
   "execution_count": 18,
   "id": "fa3b64e0-e81f-4498-bfc2-6dd844b8e23d",
   "metadata": {},
   "outputs": [
    {
     "name": "stdout",
     "output_type": "stream",
     "text": [
      "9839.43526856974\n",
      "33403.1075337779\n",
      "suficiente\n"
     ]
    }
   ],
   "source": [
    "hasta = 3\n",
    "\n",
    "s = np.std(results_exp_2['co2Avoided'][:hasta])\n",
    "n = len(results_exp_2['co2Avoided'][:hasta])\n",
    "\n",
    "print(s/np.sqrt(n))\n",
    "print(1.96*s)\n",
    "\n",
    "if s/np.sqrt(n) <= 1.96*s: \n",
    "    print('suficiente')"
   ]
  }
 ],
 "metadata": {
  "interpreter": {
   "hash": "ba09e9e39564291792ae987e1d3c5880349d344aedf6f23521f2727e2a30aefc"
  },
  "kernelspec": {
   "display_name": "Python 3.9.7 64-bit (windows store)",
   "name": "python3"
  },
  "language_info": {
   "codemirror_mode": {
    "name": "ipython",
    "version": 3
   },
   "file_extension": ".py",
   "mimetype": "text/x-python",
   "name": "python",
   "nbconvert_exporter": "python",
   "pygments_lexer": "ipython3",
   "version": "3.9.7"
  }
 },
 "nbformat": 4,
 "nbformat_minor": 5
}
