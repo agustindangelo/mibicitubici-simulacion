{
 "cells": [
  {
   "cell_type": "code",
   "execution_count": 2,
   "id": "898115c7-66e4-4be0-966f-68aaafc2859e",
   "metadata": {},
   "outputs": [],
   "source": [
    "import pandas as pd\n",
    "import json\n",
    "import requests"
   ]
  },
  {
   "cell_type": "code",
   "execution_count": 5,
   "id": "2723c937-9b14-4d38-9398-c46e028efa7f",
   "metadata": {},
   "outputs": [],
   "source": [
    "response = requests.get('https://www.mibicitubici.gob.ar/v1/stations')\n",
    "estaciones = json.loads(response.text)['data']['stations']\n",
    "\n",
    "with open('estaciones.json', 'w') as outfile:\n",
    "    json.dump(estaciones, outfile)"
   ]
  },
  {
   "cell_type": "code",
   "execution_count": 3,
   "id": "687f7a94-fb46-4e23-b8ad-a47c9d250193",
   "metadata": {},
   "outputs": [
    {
     "ename": "FileNotFoundError",
     "evalue": "[Errno 2] No such file or directory: 'estaciones.json'",
     "output_type": "error",
     "traceback": [
      "\u001b[0;31m---------------------------------------------------------------------------\u001b[0m",
      "\u001b[0;31mFileNotFoundError\u001b[0m                         Traceback (most recent call last)",
      "\u001b[0;32m<ipython-input-3-36882a564893>\u001b[0m in \u001b[0;36m<module>\u001b[0;34m\u001b[0m\n\u001b[0;32m----> 1\u001b[0;31m \u001b[0;32mwith\u001b[0m \u001b[0mopen\u001b[0m\u001b[0;34m(\u001b[0m\u001b[0;34m\"estaciones.json\"\u001b[0m\u001b[0;34m,\u001b[0m \u001b[0;34m\"r\"\u001b[0m\u001b[0;34m)\u001b[0m \u001b[0;32mas\u001b[0m \u001b[0mfile\u001b[0m\u001b[0;34m:\u001b[0m\u001b[0;34m\u001b[0m\u001b[0;34m\u001b[0m\u001b[0m\n\u001b[0m\u001b[1;32m      2\u001b[0m     \u001b[0mestaciones\u001b[0m \u001b[0;34m=\u001b[0m \u001b[0mjson\u001b[0m\u001b[0;34m.\u001b[0m\u001b[0mload\u001b[0m\u001b[0;34m(\u001b[0m\u001b[0mfile\u001b[0m\u001b[0;34m)\u001b[0m\u001b[0;34m\u001b[0m\u001b[0;34m\u001b[0m\u001b[0m\n\u001b[1;32m      3\u001b[0m \u001b[0mestaciones\u001b[0m\u001b[0;34m[\u001b[0m\u001b[0;36m0\u001b[0m\u001b[0;34m]\u001b[0m\u001b[0;34m\u001b[0m\u001b[0;34m\u001b[0m\u001b[0m\n",
      "\u001b[0;31mFileNotFoundError\u001b[0m: [Errno 2] No such file or directory: 'estaciones.json'"
     ]
    }
   ],
   "source": [
    "with open(\"estaciones.json\", \"r\") as file:\n",
    "    estaciones = json.load(file)\n",
    "estaciones[0]"
   ]
  },
  {
   "cell_type": "code",
   "execution_count": 7,
   "id": "ae43f94f-022d-494e-91fb-703e4b7d6963",
   "metadata": {},
   "outputs": [],
   "source": [
    "latitudes = [float(estacion['location']['latitude']) for estacion in estaciones]\n",
    "longitudes = [float(estacion['location']['longitude']) for estacion in estaciones]"
   ]
  },
  {
   "cell_type": "code",
   "execution_count": 9,
   "id": "86104521-d266-49db-ad90-113194e9a3df",
   "metadata": {},
   "outputs": [
    {
     "data": {
      "text/html": [
       "<div>\n",
       "<style scoped>\n",
       "    .dataframe tbody tr th:only-of-type {\n",
       "        vertical-align: middle;\n",
       "    }\n",
       "\n",
       "    .dataframe tbody tr th {\n",
       "        vertical-align: top;\n",
       "    }\n",
       "\n",
       "    .dataframe thead th {\n",
       "        text-align: right;\n",
       "    }\n",
       "</style>\n",
       "<table border=\"1\" class=\"dataframe\">\n",
       "  <thead>\n",
       "    <tr style=\"text-align: right;\">\n",
       "      <th></th>\n",
       "      <th>id</th>\n",
       "      <th>name</th>\n",
       "      <th>address</th>\n",
       "      <th>station_code</th>\n",
       "      <th>status</th>\n",
       "      <th>last_connection_date</th>\n",
       "      <th>favorite</th>\n",
       "      <th>tandem</th>\n",
       "      <th>anchor</th>\n",
       "      <th>bikes</th>\n",
       "      <th>latitude</th>\n",
       "      <th>longitude</th>\n",
       "    </tr>\n",
       "  </thead>\n",
       "  <tbody>\n",
       "    <tr>\n",
       "      <th>0</th>\n",
       "      <td>1</td>\n",
       "      <td>Museo Castagnino</td>\n",
       "      <td>Oroño 1658</td>\n",
       "      <td>1</td>\n",
       "      <td>active</td>\n",
       "      <td>1632252091</td>\n",
       "      <td>False</td>\n",
       "      <td>0</td>\n",
       "      <td>13</td>\n",
       "      <td>7</td>\n",
       "      <td>-32.954214</td>\n",
       "      <td>-60.655987</td>\n",
       "    </tr>\n",
       "    <tr>\n",
       "      <th>1</th>\n",
       "      <td>2</td>\n",
       "      <td>Paseo Pellegrini</td>\n",
       "      <td>Av. Pellegrini 1377</td>\n",
       "      <td>2</td>\n",
       "      <td>active</td>\n",
       "      <td>1632252101</td>\n",
       "      <td>False</td>\n",
       "      <td>0</td>\n",
       "      <td>20</td>\n",
       "      <td>0</td>\n",
       "      <td>-32.956663</td>\n",
       "      <td>-60.644869</td>\n",
       "    </tr>\n",
       "    <tr>\n",
       "      <th>2</th>\n",
       "      <td>3</td>\n",
       "      <td>Plaza López</td>\n",
       "      <td>Pellegrini  779</td>\n",
       "      <td>3</td>\n",
       "      <td>active</td>\n",
       "      <td>1632252099</td>\n",
       "      <td>False</td>\n",
       "      <td>1</td>\n",
       "      <td>15</td>\n",
       "      <td>5</td>\n",
       "      <td>-32.958121</td>\n",
       "      <td>-60.636702</td>\n",
       "    </tr>\n",
       "    <tr>\n",
       "      <th>3</th>\n",
       "      <td>4</td>\n",
       "      <td>Fac. de Ingeniería</td>\n",
       "      <td>Av. Pellegrini 280</td>\n",
       "      <td>4</td>\n",
       "      <td>active</td>\n",
       "      <td>1632252099</td>\n",
       "      <td>False</td>\n",
       "      <td>1</td>\n",
       "      <td>12</td>\n",
       "      <td>8</td>\n",
       "      <td>-32.959215</td>\n",
       "      <td>-60.629449</td>\n",
       "    </tr>\n",
       "    <tr>\n",
       "      <th>4</th>\n",
       "      <td>5</td>\n",
       "      <td>Ciudad Univ. I</td>\n",
       "      <td>Riobamba 239 BIS</td>\n",
       "      <td>5</td>\n",
       "      <td>active</td>\n",
       "      <td>1632252108</td>\n",
       "      <td>False</td>\n",
       "      <td>0</td>\n",
       "      <td>14</td>\n",
       "      <td>7</td>\n",
       "      <td>-32.967366</td>\n",
       "      <td>-60.623572</td>\n",
       "    </tr>\n",
       "  </tbody>\n",
       "</table>\n",
       "</div>"
      ],
      "text/plain": [
       "   id                name              address  station_code  status  \\\n",
       "0   1    Museo Castagnino           Oroño 1658             1  active   \n",
       "1   2    Paseo Pellegrini  Av. Pellegrini 1377             2  active   \n",
       "2   3         Plaza López      Pellegrini  779             3  active   \n",
       "3   4  Fac. de Ingeniería   Av. Pellegrini 280             4  active   \n",
       "4   5      Ciudad Univ. I     Riobamba 239 BIS             5  active   \n",
       "\n",
       "   last_connection_date  favorite  tandem  anchor  bikes   latitude  longitude  \n",
       "0            1632252091     False       0      13      7 -32.954214 -60.655987  \n",
       "1            1632252101     False       0      20      0 -32.956663 -60.644869  \n",
       "2            1632252099     False       1      15      5 -32.958121 -60.636702  \n",
       "3            1632252099     False       1      12      8 -32.959215 -60.629449  \n",
       "4            1632252108     False       0      14      7 -32.967366 -60.623572  "
      ]
     },
     "execution_count": 9,
     "metadata": {},
     "output_type": "execute_result"
    }
   ],
   "source": [
    "df = pd.DataFrame(estaciones)\n",
    "df.drop('location', axis='columns', inplace=True)\n",
    "df['latitude'] = latitudes\n",
    "df['longitude'] = longitudes\n",
    "df.head()"
   ]
  },
  {
   "cell_type": "code",
   "execution_count": 12,
   "id": "72594f01-6f26-408b-9459-bd305924309a",
   "metadata": {},
   "outputs": [],
   "source": [
    "df.iloc[:2, :].to_csv('../datos/geo/estaciones-test.csv', index=False)\n",
    "df.iloc[:2, :].to_excel('../datos/geo/estaciones-test.xlsx', index = None, header=True)"
   ]
  },
  {
   "cell_type": "markdown",
   "id": "ce6681a3-650c-4023-86d8-0ea5e882e9af",
   "metadata": {},
   "source": [
    "# Ciclovías"
   ]
  },
  {
   "cell_type": "code",
   "execution_count": 106,
   "id": "fc5d53fc-550b-41d2-a82a-332924581f5c",
   "metadata": {},
   "outputs": [],
   "source": [
    "origin_lat = [float(ciclovia['origin']['latitude']) for ciclovia in ciclovias]\n",
    "origin_lon = [float(ciclovia['origin']['longitude']) for ciclovia in ciclovias]\n",
    "destination_lat = [float(ciclovia['destination']['latitude']) for ciclovia in ciclovias]\n",
    "destination_lon = [float(ciclovia['destination']['longitude']) for ciclovia in ciclovias]\n",
    "ciclovias_df = pd.DataFrame(ciclovias)"
   ]
  },
  {
   "cell_type": "code",
   "execution_count": 107,
   "id": "73127739-4313-4b35-bd1b-9e74d8dbdf6b",
   "metadata": {},
   "outputs": [
    {
     "data": {
      "text/html": [
       "<div>\n",
       "<style scoped>\n",
       "    .dataframe tbody tr th:only-of-type {\n",
       "        vertical-align: middle;\n",
       "    }\n",
       "\n",
       "    .dataframe tbody tr th {\n",
       "        vertical-align: top;\n",
       "    }\n",
       "\n",
       "    .dataframe thead th {\n",
       "        text-align: right;\n",
       "    }\n",
       "</style>\n",
       "<table border=\"1\" class=\"dataframe\">\n",
       "  <thead>\n",
       "    <tr style=\"text-align: right;\">\n",
       "      <th></th>\n",
       "      <th>id</th>\n",
       "      <th>name</th>\n",
       "      <th>origin_lat</th>\n",
       "      <th>origin_lon</th>\n",
       "      <th>destination_lat</th>\n",
       "      <th>destination_lon</th>\n",
       "    </tr>\n",
       "  </thead>\n",
       "  <tbody>\n",
       "    <tr>\n",
       "      <th>0</th>\n",
       "      <td>2</td>\n",
       "      <td>Bordavere (entre Avellaneda y Salta)</td>\n",
       "      <td>-32.933594</td>\n",
       "      <td>-60.677809</td>\n",
       "      <td>-32.933322</td>\n",
       "      <td>-60.670600</td>\n",
       "    </tr>\n",
       "    <tr>\n",
       "      <th>1</th>\n",
       "      <td>3</td>\n",
       "      <td>Avellaneda (entre San Lorenzo y Pte. Perón)</td>\n",
       "      <td>-32.936786</td>\n",
       "      <td>-60.678624</td>\n",
       "      <td>-32.957553</td>\n",
       "      <td>-60.683857</td>\n",
       "    </tr>\n",
       "    <tr>\n",
       "      <th>2</th>\n",
       "      <td>4</td>\n",
       "      <td>Av. Pellegrini (entre Balcarce y Necochea)</td>\n",
       "      <td>-32.949930</td>\n",
       "      <td>-60.681846</td>\n",
       "      <td>-32.959731</td>\n",
       "      <td>-60.626918</td>\n",
       "    </tr>\n",
       "    <tr>\n",
       "      <th>3</th>\n",
       "      <td>5</td>\n",
       "      <td>Entre Ríos (entre Jujuy y Bv. Seguí)</td>\n",
       "      <td>-32.937811</td>\n",
       "      <td>-60.638890</td>\n",
       "      <td>-32.978416</td>\n",
       "      <td>-60.649098</td>\n",
       "    </tr>\n",
       "    <tr>\n",
       "      <th>4</th>\n",
       "      <td>6</td>\n",
       "      <td>Corrientes (entre Jujuy y Bv. 27 de Febrero)</td>\n",
       "      <td>-32.937534</td>\n",
       "      <td>-60.640281</td>\n",
       "      <td>-32.966694</td>\n",
       "      <td>-60.647604</td>\n",
       "    </tr>\n",
       "  </tbody>\n",
       "</table>\n",
       "</div>"
      ],
      "text/plain": [
       "   id                                          name  origin_lat  origin_lon  \\\n",
       "0   2          Bordavere (entre Avellaneda y Salta)  -32.933594  -60.677809   \n",
       "1   3   Avellaneda (entre San Lorenzo y Pte. Perón)  -32.936786  -60.678624   \n",
       "2   4    Av. Pellegrini (entre Balcarce y Necochea)  -32.949930  -60.681846   \n",
       "3   5          Entre Ríos (entre Jujuy y Bv. Seguí)  -32.937811  -60.638890   \n",
       "4   6  Corrientes (entre Jujuy y Bv. 27 de Febrero)  -32.937534  -60.640281   \n",
       "\n",
       "   destination_lat  destination_lon  \n",
       "0       -32.933322       -60.670600  \n",
       "1       -32.957553       -60.683857  \n",
       "2       -32.959731       -60.626918  \n",
       "3       -32.978416       -60.649098  \n",
       "4       -32.966694       -60.647604  "
      ]
     },
     "execution_count": 107,
     "metadata": {},
     "output_type": "execute_result"
    }
   ],
   "source": [
    "ciclovias_df = pd.DataFrame(ciclovias)\n",
    "ciclovias_df.drop(['origin', 'destination'], axis='columns', inplace=True)\n",
    "ciclovias_df['origin_lat'] = origin_lat\n",
    "ciclovias_df['origin_lon'] = origin_lon\n",
    "ciclovias_df['destination_lat'] = destination_lat\n",
    "ciclovias_df['destination_lon'] = destination_lon\n",
    "ciclovias_df.head()"
   ]
  },
  {
   "cell_type": "code",
   "execution_count": 108,
   "id": "c172dfe1-2ad2-4452-8ad9-f29312555d4f",
   "metadata": {},
   "outputs": [],
   "source": [
    "ciclovias_df.to_csv('datos/ciclovias.csv', index=False)\n",
    "ciclovias_df.to_excel('datos/ciclovias.xlsx', index = None, header=True)"
   ]
  }
 ],
 "metadata": {
  "kernelspec": {
   "display_name": "pyenv",
   "language": "python",
   "name": "pyenv"
  },
  "language_info": {
   "codemirror_mode": {
    "name": "ipython",
    "version": 3
   },
   "file_extension": ".py",
   "mimetype": "text/x-python",
   "name": "python",
   "nbconvert_exporter": "python",
   "pygments_lexer": "ipython3",
   "version": "3.9.6"
  }
 },
 "nbformat": 4,
 "nbformat_minor": 5
}
